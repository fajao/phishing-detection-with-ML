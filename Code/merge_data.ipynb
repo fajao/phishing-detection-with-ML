{
 "cells": [
  {
   "cell_type": "code",
   "execution_count": 5,
   "id": "b0149add-0055-420c-888c-62e97a9b2693",
   "metadata": {},
   "outputs": [],
   "source": [
    "###################################################\n",
    "# Merging phishing and benign whois verified URLs #\n",
    "###################################################\n",
    "import pandas as pd"
   ]
  },
  {
   "cell_type": "code",
   "execution_count": 6,
   "id": "88ad34a2-be68-4680-a1de-430a359f7a4e",
   "metadata": {},
   "outputs": [],
   "source": [
    "# Read the csv files\n",
    "phish_whois_verified = pd.read_csv('../Data/phish_whois_urls.csv')\n",
    "\n",
    "benign_whois_verified = pd.read_csv('../Data/benign_whois_urls.csv')"
   ]
  },
  {
   "cell_type": "code",
   "execution_count": 8,
   "id": "9c9d988e-a581-4899-893a-cfa8942bee2e",
   "metadata": {},
   "outputs": [
    {
     "data": {
      "text/plain": [
       "(8412, 2)"
      ]
     },
     "execution_count": 8,
     "metadata": {},
     "output_type": "execute_result"
    }
   ],
   "source": [
    "# Checking\n",
    "phish_whois_verified.shape"
   ]
  },
  {
   "cell_type": "code",
   "execution_count": 10,
   "id": "26a8438c-fbd0-47aa-82dd-42b73bdaabec",
   "metadata": {},
   "outputs": [
    {
     "data": {
      "text/html": [
       "<div>\n",
       "<style scoped>\n",
       "    .dataframe tbody tr th:only-of-type {\n",
       "        vertical-align: middle;\n",
       "    }\n",
       "\n",
       "    .dataframe tbody tr th {\n",
       "        vertical-align: top;\n",
       "    }\n",
       "\n",
       "    .dataframe thead th {\n",
       "        text-align: right;\n",
       "    }\n",
       "</style>\n",
       "<table border=\"1\" class=\"dataframe\">\n",
       "  <thead>\n",
       "    <tr style=\"text-align: right;\">\n",
       "      <th></th>\n",
       "      <th>URL</th>\n",
       "      <th>label</th>\n",
       "    </tr>\n",
       "  </thead>\n",
       "  <tbody>\n",
       "    <tr>\n",
       "      <th>0</th>\n",
       "      <td>https://frugihb5rfvnjced0e9uhbfndxws.weebly.co...</td>\n",
       "      <td>1</td>\n",
       "    </tr>\n",
       "    <tr>\n",
       "      <th>1</th>\n",
       "      <td>https://metamskrextension.webflow.io/</td>\n",
       "      <td>1</td>\n",
       "    </tr>\n",
       "    <tr>\n",
       "      <th>2</th>\n",
       "      <td>https://pub-a34de2eea58649bd8a1141729e751b73.r...</td>\n",
       "      <td>1</td>\n",
       "    </tr>\n",
       "    <tr>\n",
       "      <th>3</th>\n",
       "      <td>http://pub-a472af04e5b246a28ec9294a5644e425.r2...</td>\n",
       "      <td>1</td>\n",
       "    </tr>\n",
       "    <tr>\n",
       "      <th>4</th>\n",
       "      <td>http://pub-2128bf1c8b5740619b16a55bc3bd9a73.r2...</td>\n",
       "      <td>1</td>\n",
       "    </tr>\n",
       "  </tbody>\n",
       "</table>\n",
       "</div>"
      ],
      "text/plain": [
       "                                                 URL  label\n",
       "0  https://frugihb5rfvnjced0e9uhbfndxws.weebly.co...      1\n",
       "1              https://metamskrextension.webflow.io/      1\n",
       "2  https://pub-a34de2eea58649bd8a1141729e751b73.r...      1\n",
       "3  http://pub-a472af04e5b246a28ec9294a5644e425.r2...      1\n",
       "4  http://pub-2128bf1c8b5740619b16a55bc3bd9a73.r2...      1"
      ]
     },
     "execution_count": 10,
     "metadata": {},
     "output_type": "execute_result"
    }
   ],
   "source": [
    "phish_whois_verified.head()"
   ]
  },
  {
   "cell_type": "code",
   "execution_count": 9,
   "id": "a2e4ee69-200f-47bb-be17-c3cd15688ca1",
   "metadata": {},
   "outputs": [
    {
     "data": {
      "text/plain": [
       "(9949, 2)"
      ]
     },
     "execution_count": 9,
     "metadata": {},
     "output_type": "execute_result"
    }
   ],
   "source": [
    "# Checking\n",
    "benign_whois_verified.shape"
   ]
  },
  {
   "cell_type": "code",
   "execution_count": 12,
   "id": "bff15239-4260-40a4-8df0-d16688292b32",
   "metadata": {},
   "outputs": [
    {
     "data": {
      "text/html": [
       "<div>\n",
       "<style scoped>\n",
       "    .dataframe tbody tr th:only-of-type {\n",
       "        vertical-align: middle;\n",
       "    }\n",
       "\n",
       "    .dataframe tbody tr th {\n",
       "        vertical-align: top;\n",
       "    }\n",
       "\n",
       "    .dataframe thead th {\n",
       "        text-align: right;\n",
       "    }\n",
       "</style>\n",
       "<table border=\"1\" class=\"dataframe\">\n",
       "  <thead>\n",
       "    <tr style=\"text-align: right;\">\n",
       "      <th></th>\n",
       "      <th>URL</th>\n",
       "      <th>label</th>\n",
       "    </tr>\n",
       "  </thead>\n",
       "  <tbody>\n",
       "    <tr>\n",
       "      <th>0</th>\n",
       "      <td>https://www.google.com/</td>\n",
       "      <td>0</td>\n",
       "    </tr>\n",
       "    <tr>\n",
       "      <th>1</th>\n",
       "      <td>https://www.youtube.com/</td>\n",
       "      <td>0</td>\n",
       "    </tr>\n",
       "    <tr>\n",
       "      <th>2</th>\n",
       "      <td>https://www.facebook.com/</td>\n",
       "      <td>0</td>\n",
       "    </tr>\n",
       "    <tr>\n",
       "      <th>3</th>\n",
       "      <td>http://www.baidu.com/</td>\n",
       "      <td>0</td>\n",
       "    </tr>\n",
       "    <tr>\n",
       "      <th>4</th>\n",
       "      <td>https://www.wikipedia.org/</td>\n",
       "      <td>0</td>\n",
       "    </tr>\n",
       "  </tbody>\n",
       "</table>\n",
       "</div>"
      ],
      "text/plain": [
       "                          URL  label\n",
       "0     https://www.google.com/      0\n",
       "1    https://www.youtube.com/      0\n",
       "2   https://www.facebook.com/      0\n",
       "3       http://www.baidu.com/      0\n",
       "4  https://www.wikipedia.org/      0"
      ]
     },
     "execution_count": 12,
     "metadata": {},
     "output_type": "execute_result"
    }
   ],
   "source": [
    "benign_whois_verified.head()"
   ]
  },
  {
   "cell_type": "code",
   "execution_count": 13,
   "id": "fe30ed40-7ede-426f-a155-74ffbeb19bbb",
   "metadata": {},
   "outputs": [],
   "source": [
    "# Selecting rows to get 50/50\n",
    "phish_whois_verified_reduced = phish_whois_verified[:8400]"
   ]
  },
  {
   "cell_type": "code",
   "execution_count": 14,
   "id": "df82e046-e924-4498-81d8-1c4b86b3669f",
   "metadata": {},
   "outputs": [],
   "source": [
    "benign_whois_verified_reduced = benign_whois_verified[:8400]"
   ]
  },
  {
   "cell_type": "code",
   "execution_count": 15,
   "id": "dea824d9-3582-42fc-a489-ff076d329e28",
   "metadata": {},
   "outputs": [],
   "source": [
    "# Creating merged df\n",
    "combine = pd.DataFrame()"
   ]
  },
  {
   "cell_type": "code",
   "execution_count": 16,
   "id": "9572f47e-704b-434b-9618-6157b3b5bb65",
   "metadata": {},
   "outputs": [],
   "source": [
    "combine = pd.concat([benign_whois_verified_reduced, phish_whois_verified_reduced])"
   ]
  },
  {
   "cell_type": "code",
   "execution_count": 17,
   "id": "588e6099-64e3-45bb-902f-474492a21390",
   "metadata": {},
   "outputs": [
    {
     "data": {
      "text/plain": [
       "(16800, 2)"
      ]
     },
     "execution_count": 17,
     "metadata": {},
     "output_type": "execute_result"
    }
   ],
   "source": [
    "# Checking\n",
    "combine.shape"
   ]
  },
  {
   "cell_type": "code",
   "execution_count": 18,
   "id": "f99256c3-f535-4ff8-96f7-f33c69fe85f4",
   "metadata": {},
   "outputs": [
    {
     "name": "stdout",
     "output_type": "stream",
     "text": [
      "                                                    URL  label\n",
      "0                               https://www.google.com/      0\n",
      "1                              https://www.youtube.com/      0\n",
      "2                             https://www.facebook.com/      0\n",
      "3                                 http://www.baidu.com/      0\n",
      "4                            https://www.wikipedia.org/      0\n",
      "...                                                 ...    ...\n",
      "8395                            https://telewebk.xyz/k/      1\n",
      "8396  https://w53mqflm0.hier-im-netz.de/bEDH/bEDH/bD...      1\n",
      "8397  https://microsoftedge.pancakeswap.finance.expo...      1\n",
      "8398  https://james-huston49823563.pages.dev/help/co...      1\n",
      "8399              https://meitaamasklogin.gitbook.io/us      1\n",
      "\n",
      "[16800 rows x 2 columns]\n"
     ]
    }
   ],
   "source": [
    "print(combine)"
   ]
  },
  {
   "cell_type": "code",
   "execution_count": 24,
   "id": "8a1b7d07-8d3a-4b99-a070-8fb3699e899f",
   "metadata": {},
   "outputs": [],
   "source": [
    "# Creating combined csv file\n",
    "combine.to_csv(\"../Data/merged_whois_urls.csv\", index=False)"
   ]
  },
  {
   "cell_type": "code",
   "execution_count": null,
   "id": "f6e775ff-ffd4-4cf7-9ece-fb689bf6398a",
   "metadata": {},
   "outputs": [],
   "source": []
  }
 ],
 "metadata": {
  "kernelspec": {
   "display_name": "Python 3 (ipykernel)",
   "language": "python",
   "name": "python3"
  },
  "language_info": {
   "codemirror_mode": {
    "name": "ipython",
    "version": 3
   },
   "file_extension": ".py",
   "mimetype": "text/x-python",
   "name": "python",
   "nbconvert_exporter": "python",
   "pygments_lexer": "ipython3",
   "version": "3.8.2"
  }
 },
 "nbformat": 4,
 "nbformat_minor": 5
}
